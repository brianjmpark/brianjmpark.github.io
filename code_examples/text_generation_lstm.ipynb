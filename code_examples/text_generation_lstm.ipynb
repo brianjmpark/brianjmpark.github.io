{
  "nbformat": 4,
  "nbformat_minor": 0,
  "metadata": {
    "colab": {
      "name": "text_gen.ipynb",
      "provenance": []
    },
    "kernelspec": {
      "name": "python3",
      "display_name": "Python 3"
    },
    "language_info": {
      "name": "python"
    }
  },
  "cells": [
    {
      "cell_type": "code",
      "execution_count": null,
      "metadata": {
        "id": "WpB7G689o5MK"
      },
      "outputs": [],
      "source": [
        "import numpy as np\n",
        "import pandas as pd\n",
        "import tensorflow as tf\n",
        "from tf.keras.models import Sequential\n",
        "from tf.keras.layers import Dense\n",
        "from tf.keras.layers import LSTM\n",
        "from tf.keras.layers import Dropout\n",
        "from tf.keras.optimizers import RMSprop\n",
        "from tf.keras.utils import to_categorical\n",
        "from tf.keras.preprocessing.sequence import pad_sequences"
      ]
    },
    {
      "cell_type": "code",
      "source": [
        "filename = 'persuasion_jane_austen.txt'"
      ],
      "metadata": {
        "id": "6BOoRwvto-Bq"
      },
      "execution_count": null,
      "outputs": []
    },
    {
      "cell_type": "code",
      "source": [
        "raw_text = open(filename, 'r', encoding='utf-8').read()"
      ],
      "metadata": {
        "id": "fHz00XI7pdBq"
      },
      "execution_count": null,
      "outputs": []
    },
    {
      "cell_type": "code",
      "source": [
        "raw_text = raw_text.lower()"
      ],
      "metadata": {
        "id": "ix_PV_idq67G"
      },
      "execution_count": null,
      "outputs": []
    },
    {
      "cell_type": "code",
      "source": [
        "chars = sorted(list(set(raw_text)))"
      ],
      "metadata": {
        "id": "3IIifR3DrTyX"
      },
      "execution_count": null,
      "outputs": []
    },
    {
      "cell_type": "code",
      "source": [
        "char_indices = dict((c, i) for i, c in enumerate(chars))\n",
        "indices_char = dict((i, c) for i, c in enumerate(chars))"
      ],
      "metadata": {
        "id": "p45Th7VZrjkA"
      },
      "execution_count": null,
      "outputs": []
    },
    {
      "cell_type": "code",
      "source": [
        "max_len = 100\n",
        "dx = []\n",
        "dy = []\n",
        "for i in range(0, len(raw_text) - max_len, 1):\n",
        "  dx.append(raw_text[i : i + max_len])\n",
        "  dy.append(raw_text[i + max_len])"
      ],
      "metadata": {
        "id": "dsyC1Zl3t_GP"
      },
      "execution_count": null,
      "outputs": []
    },
    {
      "cell_type": "code",
      "source": [
        "X = []\n",
        "for i in range(0, len(dx), 1):\n",
        "  X.append([char_indices[a] for a in dx[i]])"
      ],
      "metadata": {
        "id": "KCrYsfMU7UU_"
      },
      "execution_count": null,
      "outputs": []
    },
    {
      "cell_type": "code",
      "source": [
        "y = []\n",
        "for i in range(0, len(dy), 1):\n",
        "  y.append([char_indices[a] for a in dy[i]])"
      ],
      "metadata": {
        "id": "dSXDg1ne8Lzv"
      },
      "execution_count": null,
      "outputs": []
    },
    {
      "cell_type": "code",
      "source": [
        "y = [a[0] for a in y]"
      ],
      "metadata": {
        "id": "7oFGiM_y9eNJ"
      },
      "execution_count": null,
      "outputs": []
    },
    {
      "cell_type": "code",
      "source": [
        "X2 = X[0:50000]"
      ],
      "metadata": {
        "id": "v_WqUmIswF6x"
      },
      "execution_count": null,
      "outputs": []
    },
    {
      "cell_type": "code",
      "source": [
        "X2 = np.reshape(X2, (len(X2), max_len, 1))"
      ],
      "metadata": {
        "id": "xR8-DXEbAaQl"
      },
      "execution_count": null,
      "outputs": []
    },
    {
      "cell_type": "code",
      "source": [
        "X2 = X2 / float(len(chars))"
      ],
      "metadata": {
        "id": "gVQTkmuew9In"
      },
      "execution_count": null,
      "outputs": []
    },
    {
      "cell_type": "code",
      "source": [
        "y2 = to_categorical(y)"
      ],
      "metadata": {
        "id": "Yj9zBV0dA5MJ"
      },
      "execution_count": null,
      "outputs": []
    },
    {
      "cell_type": "code",
      "source": [
        "y2 = y2[0:50000]"
      ],
      "metadata": {
        "id": "iXHhkRY1w-jk"
      },
      "execution_count": null,
      "outputs": []
    },
    {
      "cell_type": "code",
      "source": [
        "model = Sequential()\n",
        "model.add(LSTM(128, input_shape=(X2.shape[1], X2.shape[2])))\n",
        "model.add(Dropout(0.2))\n",
        "model.add(Dense(y2.shape[1], activation='softmax'))\n",
        "optimizer = RMSprop(learning_rate=0.01, clipnorm=1)\n",
        "model.compile(loss='categorical_crossentropy', optimizer=optimizer)"
      ],
      "metadata": {
        "id": "Siuo8qhzCMou"
      },
      "execution_count": null,
      "outputs": []
    },
    {
      "cell_type": "code",
      "source": [
        "model.summary()"
      ],
      "metadata": {
        "colab": {
          "base_uri": "https://localhost:8080/"
        },
        "id": "i0iDOZ0lEQZO",
        "outputId": "2a4006e4-7197-437b-a285-c9a4bd398bb4"
      },
      "execution_count": null,
      "outputs": [
        {
          "output_type": "stream",
          "name": "stdout",
          "text": [
            "Model: \"sequential_4\"\n",
            "_________________________________________________________________\n",
            " Layer (type)                Output Shape              Param #   \n",
            "=================================================================\n",
            " lstm_4 (LSTM)               (None, 128)               66560     \n",
            "                                                                 \n",
            " dropout_4 (Dropout)         (None, 128)               0         \n",
            "                                                                 \n",
            " dense_4 (Dense)             (None, 60)                7740      \n",
            "                                                                 \n",
            "=================================================================\n",
            "Total params: 74,300\n",
            "Trainable params: 74,300\n",
            "Non-trainable params: 0\n",
            "_________________________________________________________________\n"
          ]
        }
      ]
    },
    {
      "cell_type": "code",
      "source": [
        "model.fit(X2, y2, epochs=30, batch_size=128, verbose=0)"
      ],
      "metadata": {
        "colab": {
          "base_uri": "https://localhost:8080/"
        },
        "id": "sJzxrDcbs7Of",
        "outputId": "0559bb8e-ba0a-4f1d-a343-36354ea1f80e"
      },
      "execution_count": null,
      "outputs": [
        {
          "output_type": "execute_result",
          "data": {
            "text/plain": [
              "<keras.callbacks.History at 0x7fcfa8f70290>"
            ]
          },
          "metadata": {},
          "execution_count": 185
        }
      ]
    },
    {
      "cell_type": "code",
      "source": [
        "new = 'He had always intended to visit him, though to the last always assuring his wife that he should not go; and till the evening after the visit was paid she had no knowledge of it. it was then disclosed in the following manner. observing his second daughter employed in trimming a hat, he suddenly addressed her with'"
      ],
      "metadata": {
        "id": "FdvdhofMtNYD"
      },
      "execution_count": null,
      "outputs": []
    },
    {
      "cell_type": "code",
      "source": [
        "new = new.lower()"
      ],
      "metadata": {
        "id": "5JkplMEdCOCv"
      },
      "execution_count": null,
      "outputs": []
    },
    {
      "cell_type": "markdown",
      "source": [
        ""
      ],
      "metadata": {
        "id": "sNmtSpDpxMIs"
      }
    },
    {
      "cell_type": "code",
      "source": [
        "def generate_chars(seed, length, model, maxlen):\n",
        "  sentence = seed\n",
        "  for i in range(length):\n",
        "    seed_list = []\n",
        "    for a in range(0, len(sentence), 1):\n",
        "      seed_list.append([char_indices[j] for j in sentence[a]])\n",
        "    seed_list_padded = pad_sequences([seed_list], maxlen = maxlen, padding='pre')\n",
        "    seed_list_padded = seed_list_padded / float(len(chars))\n",
        "    pred = model.predict(seed_list_padded, verbose=0)[0]\n",
        "    pred = np.argmax(pred)\n",
        "    pred = indices_char[pred]\n",
        "    sentence += pred\n",
        "  return(sentence)"
      ],
      "metadata": {
        "id": "eARfh53ytJnr"
      },
      "execution_count": null,
      "outputs": []
    },
    {
      "cell_type": "code",
      "source": [
        "generate_chars(seed=new, length=50, model=model, maxlen=max_len)"
      ],
      "metadata": {
        "colab": {
          "base_uri": "https://localhost:8080/",
          "height": 70
        },
        "id": "q7fbtcjnwE6K",
        "outputId": "e77b8100-4624-4f8c-db08-da0e6551e16d"
      },
      "execution_count": null,
      "outputs": [
        {
          "output_type": "execute_result",
          "data": {
            "text/plain": [
              "'he had always intended to visit him, though to the last always assuring his wife that he should not go; and till the evening after the visit was paid she had no knowledge of it. it was then disclosed in the following manner. observing his second daughter employed in trimming a hat, he suddenly addressed her with ann the ceninnen of her father saseinen and annen'"
            ],
            "application/vnd.google.colaboratory.intrinsic+json": {
              "type": "string"
            }
          },
          "metadata": {},
          "execution_count": 192
        }
      ]
    },
    {
      "cell_type": "code",
      "source": [
        ""
      ],
      "metadata": {
        "id": "CSVHh5ULAdBf",
        "colab": {
          "base_uri": "https://localhost:8080/",
          "height": 53
        },
        "outputId": "36788b89-6b3a-483a-a3fa-426a9f5e3d9b"
      },
      "execution_count": null,
      "outputs": [
        {
          "output_type": "execute_result",
          "data": {
            "text/plain": [
              "'that he should not go; and till the evening after the visit was paid \\n she had no knowledge of it. it was then disclosed in the following manner. observing his second daughter employed in trimming a hat, he suddenly addressed her with ann the ceninnen of her father saseinen and annen'"
            ],
            "application/vnd.google.colaboratory.intrinsic+json": {
              "type": "string"
            }
          },
          "metadata": {},
          "execution_count": 3
        }
      ]
    },
    {
      "cell_type": "code",
      "source": [
        ""
      ],
      "metadata": {
        "id": "0bYkTlEDq0Jy"
      },
      "execution_count": null,
      "outputs": []
    }
  ]
}